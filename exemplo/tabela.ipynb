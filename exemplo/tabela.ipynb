{
 "cells": [
  {
   "cell_type": "markdown",
   "id": "0ba2bb65-2edf-4ab8-922d-c2b33065a54a",
   "metadata": {},
   "source": [
    "# Dashboards com Python\n",
    "\n",
    "Aqui um exemplo simples de como fazer __dashboards__ com python!"
   ]
  },
  {
   "cell_type": "code",
   "execution_count": 1,
   "id": "babe775d-45d6-4e80-b39e-46cd7ebeff21",
   "metadata": {},
   "outputs": [
    {
     "data": {
      "text/html": [
       "\n",
       "        <iframe\n",
       "            width=\"100%\"\n",
       "            height=\"650\"\n",
       "            src=\"http://127.0.0.1:8050/\"\n",
       "            frameborder=\"0\"\n",
       "            allowfullscreen\n",
       "            \n",
       "        ></iframe>\n",
       "        "
      ],
      "text/plain": [
       "<IPython.lib.display.IFrame at 0x772178a9bf10>"
      ]
     },
     "metadata": {},
     "output_type": "display_data"
    }
   ],
   "source": [
    "# Importar biblitecas\n",
    "from dash import Dash, html, dash_table, dcc, callback, Output, Input\n",
    "import pandas as pd\n",
    "import plotly.express as px\n",
    "\n",
    "# ler data\n",
    "df = pd.read_csv(\"data.csv\")\n",
    "\n",
    "# inicializar o app\n",
    "app = Dash(__name__)\n",
    "\n",
    "# App layout\n",
    "app.layout = html.Div([\n",
    "    html.Div(children='Exemplo de tabela para Aula!'),\n",
    "    dash_table.DataTable(data=df.to_dict('records'), page_size=10, style_cell={'textAlign': 'left'}),\n",
    "    dcc.Graph(figure=px.histogram(df, x='Item', y='Quantidade (Kg)', histfunc='avg'))\n",
    "])\n",
    "\n",
    "# Rodar o app\n",
    "app.run()"
   ]
  }
 ],
 "metadata": {
  "kernelspec": {
   "display_name": "Python 3 (ipykernel)",
   "language": "python",
   "name": "python3"
  },
  "language_info": {
   "codemirror_mode": {
    "name": "ipython",
    "version": 3
   },
   "file_extension": ".py",
   "mimetype": "text/x-python",
   "name": "python",
   "nbconvert_exporter": "python",
   "pygments_lexer": "ipython3",
   "version": "3.10.12"
  }
 },
 "nbformat": 4,
 "nbformat_minor": 5
}
