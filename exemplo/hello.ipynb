{
 "cells": [
  {
   "cell_type": "markdown",
   "id": "f5ca4d7d-96cb-48c9-ac13-cb86462e9648",
   "metadata": {},
   "source": [
    "# Olá mundo\n",
    "\n",
    "Para criar um primeiro olá mundo com __Dash__ é simples:\n",
    "\n",
    "1. Primeiro iremos importar os pacotes básicos necessários."
   ]
  },
  {
   "cell_type": "code",
   "execution_count": 26,
   "id": "2f44c18c-a321-4a97-be75-8c1556cd3db9",
   "metadata": {},
   "outputs": [],
   "source": [
    "from dash import Dash, html"
   ]
  },
  {
   "cell_type": "markdown",
   "id": "b00c8103-119a-41cc-8ff6-1072385cef83",
   "metadata": {},
   "source": [
    "2. Inicializamos um \"App\" da aplicação."
   ]
  },
  {
   "cell_type": "code",
   "execution_count": 27,
   "id": "aa197fed-e1c9-4437-bd1d-b726f2e94e2e",
   "metadata": {},
   "outputs": [],
   "source": [
    "app = Dash(__name__)"
   ]
  },
  {
   "cell_type": "markdown",
   "id": "4823b078-868a-41c7-a9f6-83e05b464d62",
   "metadata": {},
   "source": [
    "3. Criamos um simples layot, no estilo HTML."
   ]
  },
  {
   "cell_type": "code",
   "execution_count": 28,
   "id": "892fd5b5-2e3f-4794-b038-659bfd481cc7",
   "metadata": {},
   "outputs": [],
   "source": [
    "app.layout = html.Div([\n",
    "    html.Div(children='Olá Mundo!!!')\n",
    "])"
   ]
  },
  {
   "cell_type": "markdown",
   "id": "677279f0-11b3-49f5-b56c-7f0dd5da0c25",
   "metadata": {},
   "source": [
    "4. Basta rodar nossa aplicação agora!"
   ]
  },
  {
   "cell_type": "code",
   "execution_count": 29,
   "id": "aeb657ad-f749-4d80-a041-9a69c17dbbde",
   "metadata": {},
   "outputs": [
    {
     "data": {
      "text/html": [
       "\n",
       "        <iframe\n",
       "            width=\"100%\"\n",
       "            height=\"650\"\n",
       "            src=\"http://127.0.0.1:8050/\"\n",
       "            frameborder=\"0\"\n",
       "            allowfullscreen\n",
       "            \n",
       "        ></iframe>\n",
       "        "
      ],
      "text/plain": [
       "<IPython.lib.display.IFrame at 0x73239f7d3d60>"
      ]
     },
     "metadata": {},
     "output_type": "display_data"
    }
   ],
   "source": [
    "app.run()"
   ]
  },
  {
   "cell_type": "markdown",
   "id": "cf4b58bb-3bf7-45ee-8291-74f48854dea1",
   "metadata": {},
   "source": [
    "---\n",
    "[Exemplo 2](tabela.ipynb)"
   ]
  }
 ],
 "metadata": {
  "kernelspec": {
   "display_name": "Python 3 (ipykernel)",
   "language": "python",
   "name": "python3"
  },
  "language_info": {
   "codemirror_mode": {
    "name": "ipython",
    "version": 3
   },
   "file_extension": ".py",
   "mimetype": "text/x-python",
   "name": "python",
   "nbconvert_exporter": "python",
   "pygments_lexer": "ipython3",
   "version": "3.10.12"
  }
 },
 "nbformat": 4,
 "nbformat_minor": 5
}
